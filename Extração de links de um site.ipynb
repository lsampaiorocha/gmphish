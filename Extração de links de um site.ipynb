{
 "cells": [
  {
   "cell_type": "markdown",
   "id": "ef39c2a2",
   "metadata": {},
   "source": [
    "### Extração de links de um site"
   ]
  },
  {
   "cell_type": "markdown",
   "id": "d49b6790",
   "metadata": {},
   "source": [
    "Link do exemplo: https://www.thepythoncode.com/article/extract-all-website-links-python\n",
    "Salvando em .txt: https://www.thepythoncode.com/code/extract-all-website-links-python\n",
    "\n",
    "Dependências: pip3 install requests bs4 colorama"
   ]
  },
  {
   "cell_type": "markdown",
   "id": "414e9006",
   "metadata": {},
   "source": [
    "Estaremos usando requests para fazer solicitações HTTP convenientemente, BeautifulSoup (bs4) para analisar HTML e colorama para alterar a cor do texto."
   ]
  },
  {
   "cell_type": "code",
   "execution_count": 1,
   "id": "206443ac",
   "metadata": {},
   "outputs": [],
   "source": [
    "import requests\n",
    "from urllib.parse import urlparse, urljoin\n",
    "from bs4 import BeautifulSoup\n",
    "import colorama"
   ]
  },
  {
   "cell_type": "markdown",
   "id": "adbd3050",
   "metadata": {},
   "source": [
    "Vamos usar o colorama apenas para usar cores diferentes na impressão, para distinguir entre links internos e externos:"
   ]
  },
  {
   "cell_type": "code",
   "execution_count": 2,
   "id": "ec2ee006",
   "metadata": {},
   "outputs": [],
   "source": [
    "# init the colorama module\n",
    "colorama.init()\n",
    "\n",
    "GREEN = colorama.Fore.GREEN\n",
    "GRAY = colorama.Fore.LIGHTBLACK_EX\n",
    "RESET = colorama.Fore.RESET\n",
    "YELLOW = colorama.Fore.YELLOW"
   ]
  },
  {
   "cell_type": "markdown",
   "id": "1e8ef58e",
   "metadata": {},
   "source": [
    "Precisaremos de duas variáveis globais, uma para todos os links internos do site e outra para todos os links externos:\n",
    "\n",
    "- Links internos são URLs com links para outras páginas do mesmo site.\n",
    "- Links externos são URLs com links para outros sites"
   ]
  },
  {
   "cell_type": "code",
   "execution_count": 3,
   "id": "4744b007",
   "metadata": {},
   "outputs": [],
   "source": [
    "# initialize the set of links (unique links)\n",
    "internal_urls = set()\n",
    "external_urls = set()\n",
    "\n",
    "total_urls_visited = 0"
   ]
  },
  {
   "cell_type": "markdown",
   "id": "4b7381ab",
   "metadata": {},
   "source": [
    "Como nem todos os links em tags âncora (tags a) são válidos, alguns são links para partes do site, alguns são javascript, então vamos escrever uma função para validar URLs:\n",
    "\n",
    "Isso garantirá que um esquema adequado (protocolo, por exemplo, http ou https) e nome de domínio existam no URL."
   ]
  },
  {
   "cell_type": "code",
   "execution_count": 4,
   "id": "05fbe81e",
   "metadata": {},
   "outputs": [],
   "source": [
    "def is_valid(url):\n",
    "    \"\"\"\n",
    "    Checks whether `url` is a valid URL.\n",
    "    \"\"\"\n",
    "    parsed = urlparse(url)\n",
    "    return bool(parsed.netloc) and bool(parsed.scheme)"
   ]
  },
  {
   "cell_type": "markdown",
   "id": "5e2c9e55",
   "metadata": {},
   "source": [
    "Agora vamos construir uma função para retornar todos os URLs válidos de uma página da web:"
   ]
  },
  {
   "cell_type": "code",
   "execution_count": 5,
   "id": "684630ee",
   "metadata": {},
   "outputs": [],
   "source": [
    "def get_all_website_links(url):\n",
    "    \"\"\"\n",
    "    Returns all URLs that is found on `url` in which it belongs to the same website\n",
    "    \"\"\"\n",
    "    # all URLs of `url`\n",
    "    urls = set()\n",
    "    # domain name of the URL without the protocol\n",
    "    domain_name = urlparse(url).netloc\n",
    "    soup = BeautifulSoup(requests.get(url).content, \"html.parser\")\n",
    "    for a_tag in soup.findAll(\"a\"):\n",
    "        href = a_tag.attrs.get(\"href\")\n",
    "        if href == \"\" or href is None:\n",
    "            # href empty tag\n",
    "            continue\n",
    "        # join the URL if it's relative (not absolute link)\n",
    "        href = urljoin(url, href)\n",
    "        parsed_href = urlparse(href)\n",
    "        # remove URL GET parameters, URL fragments, etc.\n",
    "        href = parsed_href.scheme + \"://\" + parsed_href.netloc + parsed_href.path\n",
    "        if not is_valid(href):\n",
    "            # not a valid URL\n",
    "            continue\n",
    "        if href in internal_urls:\n",
    "            # already in the set\n",
    "            continue\n",
    "        if domain_name not in href:\n",
    "            # external link\n",
    "            if href not in external_urls:\n",
    "                print(f\"{GRAY}[!] External link: {href}{RESET}\")\n",
    "                external_urls.add(href)\n",
    "            continue\n",
    "        print(f\"{GREEN}[*] Internal link: {href}{RESET}\")\n",
    "        urls.add(href)\n",
    "        internal_urls.add(href)\n",
    "    return urls"
   ]
  },
  {
   "cell_type": "markdown",
   "id": "2c5be337",
   "metadata": {},
   "source": [
    "A função acima irá capturar apenas os links de uma página específica, e se quisermos extrair todos os links de todo o site? Vamos fazer isso: \n",
    "\n",
    "Esta função rastreia o site, o que significa que obtém todos os links da primeira página e se auto-chama recursivamente para seguir todos os links extraídos anteriormente. No entanto, isso pode causar alguns problemas, o programa ficará travado em grandes sites (que têm muitos links), como google.com, como resultado, foi adicionado um parâmetro max_urls para sair quando atingirmos um determinado número de URLs verificados . "
   ]
  },
  {
   "cell_type": "code",
   "execution_count": 6,
   "id": "68a76071",
   "metadata": {},
   "outputs": [],
   "source": [
    "def crawl(url, max_urls=30):\n",
    "    \"\"\"\n",
    "    Crawls a web page and extracts all links.\n",
    "    You'll find all links in `external_urls` and `internal_urls` global set variables.\n",
    "    params:\n",
    "        max_urls (int): number of max urls to crawl, default is 30.\n",
    "    \"\"\"\n",
    "    global total_urls_visited\n",
    "    total_urls_visited += 1\n",
    "    print(f\"{YELLOW}[*] Crawling: {url}{RESET}\")\n",
    "    links = get_all_website_links(url)\n",
    "    for link in links:\n",
    "        if total_urls_visited > max_urls:\n",
    "            break\n",
    "        crawl(link, max_urls=max_urls)"
   ]
  },
  {
   "cell_type": "code",
   "execution_count": 8,
   "id": "3e16b0df",
   "metadata": {},
   "outputs": [],
   "source": [
    "import argparse"
   ]
  },
  {
   "cell_type": "markdown",
   "id": "c6fd0685",
   "metadata": {},
   "source": [
    "**Exemplo de teste com URL do exemplo:**"
   ]
  },
  {
   "cell_type": "code",
   "execution_count": 16,
   "id": "f10c5cfa",
   "metadata": {},
   "outputs": [
    {
     "name": "stdout",
     "output_type": "stream",
     "text": [
      "[*] Crawling: https://www.thepythoncode.com\n",
      "[+] Total Internal links: 137\n",
      "[+] Total External links: 123\n",
      "[+] Total URLs: 260\n",
      "[+] Total crawled URLs: 30\n"
     ]
    }
   ],
   "source": [
    "if __name__ == \"__main__\":\n",
    "\n",
    "    #parser = argparse.ArgumentParser(description=\"Link Extractor Tool with Python\")\n",
    "    #parser.add_argument(\"url\", help=\"The URL to extract links from.\")\n",
    "    #parser.add_argument(\"-m\", \"--max-urls\", help=\"Number of max URLs to crawl, default is 30.\", default=30, type=int)\n",
    "\n",
    "    #args = parser.parse_args()\n",
    "    #url = args.url\n",
    "    #max_urls = args.max_urls\n",
    "\n",
    "    #crawl(url, max_urls=max_urls)\n",
    "    url = \"https://www.thepythoncode.com\"\n",
    "    max_urls=30\n",
    "    crawl(url, max_urls)\n",
    "\n",
    "    print(\"[+] Total Internal links:\", len(internal_urls))\n",
    "    print(\"[+] Total External links:\", len(external_urls))\n",
    "    print(\"[+] Total URLs:\", len(external_urls) + len(internal_urls))\n",
    "    print(\"[+] Total crawled URLs:\", max_urls)\n",
    "\n",
    "    domain_name = urlparse(url).netloc\n",
    "\n",
    "    # save the internal links to a file\n",
    "    with open(f\"{domain_name}_internal_links.txt\", \"w\") as f:\n",
    "        for internal_link in internal_urls:\n",
    "            print(internal_link.strip(), file=f)\n",
    "\n",
    "    # save the external links to a file\n",
    "    with open(f\"{domain_name}_external_links.txt\", \"w\") as f:\n",
    "        for external_link in external_urls:\n",
    "            print(external_link.strip(), file=f)"
   ]
  },
  {
   "cell_type": "markdown",
   "id": "b5988e69",
   "metadata": {},
   "source": [
    "**Exemplo de teste com URL de phishing:**"
   ]
  },
  {
   "cell_type": "code",
   "execution_count": 19,
   "id": "f64383c3",
   "metadata": {},
   "outputs": [
    {
     "name": "stdout",
     "output_type": "stream",
     "text": [
      "[*] Crawling: http://vlkote.hop.ru/\n",
      "[!] External link: http://www.r3.ru/\n",
      "[!] External link: http://vkontakte.ru/faq.php\n",
      "[!] External link: javascript://document.location='reg0'\n",
      "[!] External link: http://vkontakte.ru/login.php\n",
      "[!] External link: javascript://document.login.submit()\n",
      "[!] External link: http://www.alexa.com/site/ds/top_sites\n",
      "[!] External link: http://vkontakte.ru/help.php\n",
      "[!] External link: http://vkontakte.ru/techsupp.php\n",
      "[!] External link: http://vkontakte.ru/blog.php\n",
      "[!] External link: http://vkontakte.ru/\n",
      "[+] Total Internal links: 137\n",
      "[+] Total External links: 133\n",
      "[+] Total URLs: 270\n",
      "[+] Total crawled URLs: 30\n"
     ]
    }
   ],
   "source": [
    "if __name__ == \"__main__\":\n",
    "\n",
    "    #parser = argparse.ArgumentParser(description=\"Link Extractor Tool with Python\")\n",
    "    #parser.add_argument(\"url\", help=\"The URL to extract links from.\")\n",
    "    #parser.add_argument(\"-m\", \"--max-urls\", help=\"Number of max URLs to crawl, default is 30.\", default=30, type=int)\n",
    "\n",
    "    #args = parser.parse_args()\n",
    "    #url = args.url\n",
    "    #max_urls = args.max_urls\n",
    "\n",
    "    #crawl(url, max_urls=max_urls)\n",
    "    url = \"http://vlkote.hop.ru/\"\n",
    "    max_urls=30\n",
    "    crawl(url, max_urls)\n",
    "\n",
    "    print(\"[+] Total Internal links:\", len(internal_urls))\n",
    "    print(\"[+] Total External links:\", len(external_urls))\n",
    "    print(\"[+] Total URLs:\", len(external_urls) + len(internal_urls))\n",
    "    print(\"[+] Total crawled URLs:\", max_urls)\n",
    "\n",
    "    domain_name = urlparse(url).netloc\n",
    "\n",
    "    # save the internal links to a file\n",
    "    with open(f\"{domain_name}_internal_links.txt\", \"w\") as f:\n",
    "        for internal_link in internal_urls:\n",
    "            print(internal_link.strip(), file=f)\n",
    "\n",
    "    # save the external links to a file\n",
    "    with open(f\"{domain_name}_external_links.txt\", \"w\") as f:\n",
    "        for external_link in external_urls:\n",
    "            print(external_link.strip(), file=f)"
   ]
  },
  {
   "cell_type": "markdown",
   "id": "9e4c047a",
   "metadata": {},
   "source": [
    "**Exemplo de teste com URL legítima:**"
   ]
  },
  {
   "cell_type": "code",
   "execution_count": 20,
   "id": "3daec894",
   "metadata": {},
   "outputs": [
    {
     "name": "stdout",
     "output_type": "stream",
     "text": [
      "[*] Crawling: https://www.amazon.com.br/\n",
      "[*] Internal link: https://www.amazon.com.br/ref=nav_logo\n",
      "[*] Internal link: https://www.amazon.com.br/ap/signin\n",
      "[*] Internal link: https://www.amazon.com.br/gp/css/order-history\n",
      "[*] Internal link: https://www.amazon.com.br/gp/cart/view.html\n",
      "[*] Internal link: https://www.amazon.com.br/gp/site-directory\n",
      "[*] Internal link: https://www.amazon.com.br/gp/browse.html\n",
      "[*] Internal link: https://www.amazon.com.br/gp/goldbox\n",
      "[*] Internal link: https://www.amazon.com.br/gp/bestsellers/\n",
      "[*] Internal link: https://www.amazon.com.br/prime\n",
      "[*] Internal link: https://www.amazon.com.br/Livros/b/\n",
      "[*] Internal link: https://www.amazon.com.br/gp/help/customer/display.html\n",
      "[*] Internal link: https://www.amazon.com.br/Eletronicos-e-Tecnologia/b/\n",
      "[*] Internal link: https://www.amazon.com.br/Computadores-Informatica/b/\n",
      "[*] Internal link: https://www.amazon.com.br/gp/new-releases/\n",
      "[*] Internal link: https://www.amazon.com.br/ebooks-kindle/b/\n",
      "[*] Internal link: https://www.amazon.com.br/Games-Consoles/b/\n",
      "[*] Internal link: https://www.amazon.com.br/gcx/-/gfhz/\n",
      "[*] Internal link: https://www.amazon.com.br/Casa/b/\n",
      "[*] Internal link: https://www.amazon.com.br/Ferramentas-Construcao/b/\n",
      "[*] Internal link: https://www.amazon.com.br/gp/yourstore/home\n",
      "[*] Internal link: https://www.amazon.com.br/gp/goldbox/\n",
      "[*] Internal link: https://www.amazon.com.br/access\n",
      "[*] Internal link: https://www.amazon.com.br/\n",
      "[*] Internal link: https://www.amazon.com.br/dp/B07PDHSJ1H\n",
      "[*] Internal link: https://www.amazon.com.br/b/\n",
      "[*] Internal link: https://www.amazon.com.br/natal\n",
      "[*] Internal link: https://www.amazon.com.br/gcx/Decoração-e-embrulhos/gfhz/events/\n",
      "[*] Internal link: https://www.amazon.com.br/gcx/Celebre-o-Ano-Novo/gfhz/events/\n",
      "[*] Internal link: https://www.amazon.com.br/gcx/Prepare-a-ceia/gfhz/events/\n",
      "[*] Internal link: https://www.amazon.com.br/gp/product/B07PDHSJ1H\n",
      "[*] Internal link: https://www.amazon.com.br/gp/product/B07FQK1TS9\n",
      "[*] Internal link: https://www.amazon.com.br/gp/product/B085FXDTTX\n",
      "[*] Internal link: https://www.amazon.com.br/gp/product/B08C1K6LB2\n",
      "[*] Internal link: https://www.amazon.com.br/b\n",
      "[*] Internal link: https://www.amazon.com.br/deal/236dbc16\n",
      "[*] Internal link: https://www.amazon.com.br/kindleunlimited\n",
      "[*] Internal link: https://www.amazon.com.br/deal/ae539143\n",
      "[*] Internal link: https://www.amazon.com.br/gp/video/ssoredirect/\n",
      "[*] Internal link: https://www.amazon.com.br/gp/redirect.html\n",
      "[*] Internal link: https://www.amazon.com.br/s\n",
      "[*] Internal link: https://www.amazon.com.br/Echo-Dot-3%C2%AA-Gera%C3%A7%C3%A3o-Cor-Preta/dp/B07PDHSJ1H\n",
      "[*] Internal link: https://www.amazon.com.br/Novo-Echo-Dot-com-rel%C3%B3gio/dp/B084J4WP6J\n",
      "[*] Internal link: https://www.amazon.com.br/Novo_FireTVStick_Lite/dp/B07ZZW745X\n",
      "[*] Internal link: https://www.amazon.com.br/Kindle-10a-gera%C3%A7%C3%A3o-ilumina%C3%A7%C3%A3o-embutida/dp/B07FQK1TS9\n",
      "[*] Internal link: https://www.amazon.com.br/Echo-Show-5-segunda-gera%C3%A7%C3%A3o-preto/dp/B08KGWJDRZ\n",
      "[*] Internal link: https://www.amazon.com.br/Fire-TV-Stick-Streaming/dp/B08C1K6LB2\n",
      "[*] Internal link: https://www.amazon.com.br/Fire-TV-Stick-4K-Streaming/dp/B0872Y93TY\n",
      "[*] Internal link: https://www.amazon.com.br/Novo-Echo-Dot-4%C2%AA-gera%C3%A7%C3%A3o/dp/B084DWCZY6\n",
      "[*] Internal link: https://www.amazon.com.br/Kindle-Paperwhite-8GB/dp/B08N3J8GTX\n",
      "[*] Internal link: https://www.amazon.com.br/Roku-Express-Streaming-Transforma-inclu%C3%ADdos/dp/B09KNTBKMP\n",
      "[*] Internal link: https://www.amazon.com.br/Pilha-Alcalina-Pequena-Duracell-3020720/dp/B0778VZYVV\n",
      "[*] Internal link: https://www.amazon.com.br/Smartphone-Poco-PRO-256gb-8gb/dp/B0919PLV7S\n",
      "[*] Internal link: https://www.amazon.com.br/Carregador-Pilhas-com-pilhas-Duracell/dp/B07X4JG2G4\n",
      "[*] Internal link: https://www.amazon.com.br/Pilha-Alcalina-Palito-Duracell-3020719/dp/B078GSWP44\n",
      "[*] Internal link: https://www.amazon.com.br/Mimo-Brinquedos-6485-Elsa-Viagem/dp/B086RJSR79\n",
      "[*] Internal link: https://www.amazon.com.br/Mimo-Brinquedos-6486-Anna-Viagem/dp/B086RJQPH1\n",
      "[*] Internal link: https://www.amazon.com.br/Boneca-Frozen-Elsa-Passeio-Mimo/dp/B084SDYYXB\n",
      "[*] Internal link: https://www.amazon.com.br/Baby-Brink-2041-Styling-Head/dp/B08DW935RC\n",
      "[*] Internal link: https://www.amazon.com.br/brinquedos\n",
      "[*] Internal link: https://www.amazon.com.br/M%C3%A1scara-Esportiva-Knit-Cinza-Tamanho/dp/B08C6K6TWF\n",
      "[*] Internal link: https://www.amazon.com.br/Esteira-EP-1600-1-6HP-at%C3%A9-09km/dp/B07CMGSWDK\n",
      "[*] Internal link: https://www.amazon.com.br/Bicicleta-Spinning-E17-Acte-Sports/dp/B07FMFHDKZ\n",
      "[*] Internal link: https://www.amazon.com.br/Garmin-Instinct-Outdoor-Watch-Graphite/dp/B07HYX9P88\n",
      "[*] Internal link: https://www.amazon.com.br/Filme-Instax-Fotos-Fujifilm-Filmes/dp/B0000C73CQ\n",
      "[*] Internal link: https://www.amazon.com.br/Cabo-HDMI-Pix-018-2222-Preto/dp/B0763X2RVH\n",
      "[*] Internal link: https://www.amazon.com.br/Completo-Trip%C3%A9-Dimmer-Youtuber-Selfie/dp/B082DSK4PJ\n",
      "[*] Internal link: https://www.amazon.com.br/KIT-INSTAX-MINI-BOLSA-SINT/dp/B09GZ92G5J\n",
      "[*] Internal link: https://www.amazon.com.br/Iluminador-Ring-Light-Polegadas-Misto/dp/B07TSFLCZR\n",
      "[*] Internal link: https://www.amazon.com.br/C%C3%A2mera-Monitoramento-Tapo-C200-TP-Link/dp/B07XLML2YS\n",
      "[*] Internal link: https://www.amazon.com.br/Iluminador-Light-Misto-3500K-5500K/dp/B07WFC5JY8\n",
      "[*] Internal link: https://www.amazon.com.br/Echo-Dot-4%C2%AA-Gera%C3%A7%C3%A3o-Speaker/dp/B084KV8YRR\n",
      "[*] Internal link: https://www.amazon.com.br/Amazon-53-024641-Adaptador-de-energia/dp/B086ZK1PP5\n",
      "[*] Internal link: https://www.amazon.com.br/Kindle-Paperwhite-32GB/dp/B08N2ZL7PS\n",
      "[*] Internal link: https://www.amazon.com.br/Capa-Kindle-Paperwhite-Azul/dp/B08VZCBWN8\n",
      "[*] Internal link: https://www.amazon.com.br/Echo-Dot-4%C2%AA-gera%C3%A7%C3%A3o-Speaker/dp/B085M5P9LF\n",
      "[*] Internal link: https://www.amazon.com.br/Capa-tecido-para-novo-Kindle/dp/B07K8J59VP\n",
      "[*] Internal link: https://www.amazon.com.br/Novo-Echo-4%C2%AA-gera%C3%A7%C3%A3o/dp/B085FXDTTX\n",
      "[*] Internal link: https://www.amazon.com.br/Amazon-Exclusives/b\n",
      "[*] Internal link: https://www.amazon.com.br/Personalizada-Friends-Kameleon-Bags-Estampada/dp/B09HJMW6GH\n",
      "[*] Internal link: https://www.amazon.com.br/Mala-P-Peru-Luxcel-Vermelho/dp/B087355L8W\n",
      "[*] Internal link: https://www.amazon.com.br/Mala-Singapura-PP-Polo-King/dp/B08YRQVCY2\n",
      "[*] Internal link: https://www.amazon.com.br/Polo-King-MF10292PK-Vinho-Small/dp/B08MLBSW99\n",
      "[*] Internal link: https://www.amazon.com.br/Bebida-L%C3%A1ctea-Prote%C3%ADna-Chocolate-YoPRO/dp/B0823BN8FR\n",
      "[*] Internal link: https://www.amazon.com.br/Achocolatado-Santa-Monica-32-Cacau/dp/B07TJKTW1J\n",
      "[*] Internal link: https://www.amazon.com.br/Capsula-Baggio-Chocolate-Avel%C3%A3-Unidades/dp/B075XQXH46\n",
      "[*] Internal link: https://www.amazon.com.br/Lactose-Sabor-Frutas-Vermelhas-Piracanjuba/dp/B07TWJGWDY\n",
      "[*] Internal link: https://www.amazon.com.br/Milk-Semi-Leite-Vegetal-Notco/dp/B0942YSMJD\n",
      "[*] Internal link: https://www.amazon.com.br/Dolce-Gusto-Espresso-96g-C%C3%A1psulas/dp/B00DFSHKP2\n",
      "[*] Internal link: https://www.amazon.com.br/Isot%C3%B4nico-Sabor-Frutas-C%C3%ADtricas-Gatorade/dp/B07XWXJVG4\n",
      "[*] Internal link: https://www.amazon.com.br/S%C3%89RUM-FACIAL-VITAMINA-TRACTA-Tracta/dp/B07YNGH5H3\n",
      "[*] Internal link: https://www.amazon.com.br/Revitalift-Hialur%C3%B4nico-Diurno-LOr%C3%A9al-Paris/dp/B07VFC3F8J\n",
      "[*] Internal link: https://www.amazon.com.br/Bio-Oil-Bio-125-ml/dp/B079VQTRM7\n",
      "[*] Internal link: https://www.amazon.com.br/%C3%81gua-Micelar-200ml-LOr%C3%A9al-Paris/dp/B077BY6CB1\n",
      "[*] Internal link: https://www.amazon.com.br/Sabonete-Facial-NIVEA-Controle-Brilho/dp/B0789SGN26\n",
      "[*] Internal link: https://www.amazon.com.br/Hidratante-Facial-Hydro-Boost-Neutrogena/dp/B079VQDNLY\n",
      "[*] Internal link: https://www.amazon.com.br/Protetor-Solar-Facial-Cenoura-Bronze/dp/B07ZHL8J6M\n",
      "[*] Internal link: https://www.amazon.com.br/M%C3%A1scara-prote%C3%A7%C3%A3o-Pride-Star-Wars/dp/B092RK7T9R\n",
      "[*] Internal link: https://www.amazon.com.br/M%C3%A1scara-Esportiva-Fiber-Knit-Tamanho/dp/B096BJTPTJ\n",
      "[*] Internal link: https://www.amazon.com.br/3M-M%C3%A1scara-Tecido-Reutiliz%C3%A1vel-Tamanho/dp/B08TYQ71C1\n"
     ]
    },
    {
     "name": "stdout",
     "output_type": "stream",
     "text": [
      "[*] Internal link: https://www.amazon.com.br/M%C3%A1scaras-Prote%C3%A7%C3%A3o-Algod%C3%A3o-Mash-Branco/dp/B0874C3KQ4\n",
      "[*] Internal link: https://www.amazon.com.br/Duna-Cr%C3%B4nicas-Livro-1-ebook/dp/B015EE5JX4\n",
      "[*] Internal link: https://www.amazon.com.br/Box-Funda%C3%A7%C3%A3o-Trilogia-Isaac-Asimov-ebook/dp/B07PW57BK8\n",
      "[*] Internal link: https://www.amazon.com.br/Corrente-ferro-Vol-%C3%BAltimas-horas-ebook/dp/B09FX5B2C3\n",
      "[*] Internal link: https://www.amazon.com.br/Messias-Duna-Cr%C3%B4nicas-Livro-ebook/dp/B015EECXZ6\n",
      "[*] Internal link: https://www.amazon.com.br/Chinelo-Infantil-Ipanema-Sandalia-Feminina/dp/B08TK7JHSQ\n",
      "[*] Internal link: https://www.amazon.com.br/Shorts-Meninas-Brandili-Natural-Conj34689/dp/B09HR2C6XD\n",
      "[*] Internal link: https://www.amazon.com.br/Vestido-Infantil-Dc-Super-Friends/dp/B09HL3M4S9\n",
      "[*] Internal link: https://www.amazon.com.br/Chinelo-Drifter-Crian%C3%A7a-Unissex-Dourado/dp/B095W1ZQVP\n",
      "[*] Internal link: https://www.amazon.com.br/Controle-Dualshock-PlayStation-4-Preto/dp/B07FN1MZBH\n",
      "[*] Internal link: https://www.amazon.com.br/Console-New-Nintendo-Switch-Vermelho/dp/B08M9S4XTR\n",
      "[*] Internal link: https://www.amazon.com.br/Xbox-Pacote-Fortnite-Rocket-League/dp/B09M61SXJP\n",
      "[*] Internal link: https://www.amazon.com.br/Multilaser-Js091-Controle-Gamer-Preto/dp/B0896Q8FFJ\n",
      "[*] Internal link: https://www.amazon.com.br/Microsoft-6GQ-01178-Family-m365-Family-windows/dp/B08BT36MP8\n",
      "[*] Internal link: https://www.amazon.com.br/Nintendo-Controle-Pro-Cinza-nacional/dp/B08M141D9N\n",
      "[*] Internal link: https://www.amazon.com.br/Headphone-HV-H2232d-Ilumina%C3%A7%C3%A3o-Microfone-Conector/dp/B07N78G8GB\n",
      "[!] External link: https://www.amazon.jobs\n",
      "[!] External link: https://kdp.amazon.com\n",
      "[!] External link: https://associados.amazon.com.br\n",
      "[!] External link: https://venda.amazon.com.br/\n",
      "[!] External link: https://advertising.amazon.com/pt-br\n",
      "[*] Internal link: https://www.amazon.com.br/gp/css/homepage.html\n",
      "[*] Internal link: https://www.amazon.com.br/gp/orc/returns/homepage.html\n",
      "[*] Internal link: https://www.amazon.com.br/hz/mycd/myx\n",
      "[*] Internal link: https://www.amazon.com.br/ref=footer_logo\n",
      "[!] External link: https://www.amazon.com.au/ref=footer_au\n",
      "[!] External link: https://www.amazon.de/ref=footer_de\n",
      "[!] External link: https://www.amazon.ca/ref=footer_ca\n",
      "[!] External link: https://www.amazon.cn/ref=footer_cn\n",
      "[!] External link: https://www.amazon.sg/ref=footer_sg\n",
      "[!] External link: https://www.amazon.es/ref=footer_es\n",
      "[!] External link: https://www.amazon.com/ref=footer_us\n",
      "[!] External link: https://www.amazon.fr/ref=footer_fr\n",
      "[!] External link: https://www.amazon.nl/ref=footer_nl\n",
      "[!] External link: https://www.amazon.in/ref=footer_in\n",
      "[!] External link: https://www.amazon.it/ref=footer_it\n",
      "[!] External link: https://www.amazon.co.jp/ref=footer_jp\n",
      "[!] External link: https://www.amazon.com.mx/ref=footer_mx\n",
      "[!] External link: https://www.amazon.pl/ref=footer_pl\n",
      "[!] External link: https://www.amazon.ae/ref=footer_ae\n",
      "[!] External link: https://www.amazon.co.uk/ref=footer_uk\n",
      "[!] External link: https://www.amazon.com.tr/ref=footer_tr\n",
      "[!] External link: https://aws.amazon.com/pt/what-is-cloud-computing/\n",
      "[*] Internal link: https://www.amazon.com.br/gp/help/customer/contact-us\n",
      "[+] Total Internal links: 257\n",
      "[+] Total External links: 156\n",
      "[+] Total URLs: 413\n",
      "[+] Total crawled URLs: 30\n"
     ]
    }
   ],
   "source": [
    "if __name__ == \"__main__\":\n",
    "\n",
    "    #parser = argparse.ArgumentParser(description=\"Link Extractor Tool with Python\")\n",
    "    #parser.add_argument(\"url\", help=\"The URL to extract links from.\")\n",
    "    #parser.add_argument(\"-m\", \"--max-urls\", help=\"Number of max URLs to crawl, default is 30.\", default=30, type=int)\n",
    "\n",
    "    #args = parser.parse_args()\n",
    "    #url = args.url\n",
    "    #max_urls = args.max_urls\n",
    "\n",
    "    #crawl(url, max_urls=max_urls)\n",
    "    url = \"https://www.amazon.com.br/\"\n",
    "    max_urls=30\n",
    "    crawl(url, max_urls)\n",
    "\n",
    "    print(\"[+] Total Internal links:\", len(internal_urls))\n",
    "    print(\"[+] Total External links:\", len(external_urls))\n",
    "    print(\"[+] Total URLs:\", len(external_urls) + len(internal_urls))\n",
    "    print(\"[+] Total crawled URLs:\", max_urls)\n",
    "\n",
    "    domain_name = urlparse(url).netloc\n",
    "\n",
    "    # save the internal links to a file\n",
    "    with open(f\"{domain_name}_internal_links.txt\", \"w\") as f:\n",
    "        for internal_link in internal_urls:\n",
    "            print(internal_link.strip(), file=f)\n",
    "\n",
    "    # save the external links to a file\n",
    "    with open(f\"{domain_name}_external_links.txt\", \"w\") as f:\n",
    "        for external_link in external_urls:\n",
    "            print(external_link.strip(), file=f)"
   ]
  },
  {
   "cell_type": "code",
   "execution_count": null,
   "id": "b51511cc",
   "metadata": {},
   "outputs": [],
   "source": []
  }
 ],
 "metadata": {
  "kernelspec": {
   "display_name": "Python 3",
   "language": "python",
   "name": "python3"
  },
  "language_info": {
   "codemirror_mode": {
    "name": "ipython",
    "version": 3
   },
   "file_extension": ".py",
   "mimetype": "text/x-python",
   "name": "python",
   "nbconvert_exporter": "python",
   "pygments_lexer": "ipython3",
   "version": "3.8.8"
  }
 },
 "nbformat": 4,
 "nbformat_minor": 5
}
